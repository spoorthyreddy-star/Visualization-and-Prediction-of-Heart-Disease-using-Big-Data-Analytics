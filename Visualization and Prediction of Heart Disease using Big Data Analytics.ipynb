{
  "nbformat": 4,
  "nbformat_minor": 0,
  "metadata": {
    "colab": {
      "provenance": []
    },
    "kernelspec": {
      "name": "python3",
      "display_name": "Python 3"
    },
    "language_info": {
      "name": "python"
    }
  },
  "cells": [
    {
      "cell_type": "markdown",
      "source": [
        "# Big Data Project\n",
        "\n",
        "#**Project Title:** Visualization and Prediction of Heart Disease using Big Data Analytics\n",
        "\n"
      ],
      "metadata": {
        "id": "tSZ7LQE5HLMg"
      }
    },
    {
      "cell_type": "code",
      "execution_count": 1,
      "metadata": {
        "colab": {
          "base_uri": "https://localhost:8080/"
        },
        "id": "vInA44dsHKxF",
        "outputId": "7ecb3db6-939e-49bd-b3fb-16b88da25b8f"
      },
      "outputs": [
        {
          "output_type": "stream",
          "name": "stdout",
          "text": [
            "Requirement already satisfied: gdown in /usr/local/lib/python3.11/dist-packages (5.2.0)\n",
            "Requirement already satisfied: beautifulsoup4 in /usr/local/lib/python3.11/dist-packages (from gdown) (4.13.4)\n",
            "Requirement already satisfied: filelock in /usr/local/lib/python3.11/dist-packages (from gdown) (3.18.0)\n",
            "Requirement already satisfied: requests[socks] in /usr/local/lib/python3.11/dist-packages (from gdown) (2.32.3)\n",
            "Requirement already satisfied: tqdm in /usr/local/lib/python3.11/dist-packages (from gdown) (4.67.1)\n",
            "Requirement already satisfied: soupsieve>1.2 in /usr/local/lib/python3.11/dist-packages (from beautifulsoup4->gdown) (2.7)\n",
            "Requirement already satisfied: typing-extensions>=4.0.0 in /usr/local/lib/python3.11/dist-packages (from beautifulsoup4->gdown) (4.14.0)\n",
            "Requirement already satisfied: charset-normalizer<4,>=2 in /usr/local/lib/python3.11/dist-packages (from requests[socks]->gdown) (3.4.2)\n",
            "Requirement already satisfied: idna<4,>=2.5 in /usr/local/lib/python3.11/dist-packages (from requests[socks]->gdown) (3.10)\n",
            "Requirement already satisfied: urllib3<3,>=1.21.1 in /usr/local/lib/python3.11/dist-packages (from requests[socks]->gdown) (2.4.0)\n",
            "Requirement already satisfied: certifi>=2017.4.17 in /usr/local/lib/python3.11/dist-packages (from requests[socks]->gdown) (2025.6.15)\n",
            "Requirement already satisfied: PySocks!=1.5.7,>=1.5.6 in /usr/local/lib/python3.11/dist-packages (from requests[socks]->gdown) (1.7.1)\n"
          ]
        }
      ],
      "source": [
        "# installing the gdown package to download the dataset from the google drive\n",
        "!pip install gdown"
      ]
    },
    {
      "cell_type": "code",
      "source": [
        "# importing the required libraries\n",
        "import gdown\n",
        "import pyspark\n",
        "import os\n",
        "import pandas as pd\n",
        "import numpy as np\n",
        "import matplotlib.pyplot as plt\n",
        "import seaborn as sns\n",
        "from pyspark.sql import SparkSession\n",
        "from sklearn.model_selection import RandomizedSearchCV\n",
        "from pyspark.ml.feature import StringIndexer\n",
        "from sklearn.model_selection import train_test_split\n",
        "from sklearn.preprocessing import StandardScaler\n",
        "from sklearn.ensemble import RandomForestClassifier\n",
        "from sklearn.metrics import accuracy_score, classification_report, confusion_matrix\n",
        "from pyspark.ml.classification import RandomForestClassifier, LogisticRegression, NaiveBayes, DecisionTreeClassifier, LinearSVC\n",
        "from pyspark.ml.evaluation import BinaryClassificationEvaluator\n",
        "from pyspark.ml.feature import VectorAssembler\n",
        "from sklearn.ensemble import StackingClassifier\n",
        "from sklearn.ensemble import RandomForestClassifier as SklearnRF\n",
        "from sklearn.naive_bayes import GaussianNB\n",
        "from sklearn.linear_model import LogisticRegression as SklearnLR\n",
        "from sklearn.neighbors import KNeighborsClassifier\n",
        "from sklearn.svm import SVC\n",
        "from sklearn.model_selection import train_test_split\n",
        "import xgboost as xgb\n",
        "from sklearn.model_selection import train_test_split, GridSearchCV\n",
        "from sklearn.preprocessing import StandardScaler, PolynomialFeatures\n",
        "from imblearn.over_sampling import SMOTE\n",
        "from sklearn.metrics import accuracy_score, precision_score, recall_score, f1_score, classification_report, confusion_matrix\n",
        "import warnings\n",
        "warnings.filterwarnings('ignore')"
      ],
      "metadata": {
        "id": "cxiyWMDEHXb-"
      },
      "execution_count": 2,
      "outputs": []
    },
    {
      "cell_type": "code",
      "source": [
        "# extracting the file from the google drive\n",
        "File_ID = \"1B5pTSJc03NEfja3enhS4XKxBsqDpqIPo\"\n",
        "Data = \"heart_disease.csv\"\n",
        "\n",
        "# downloading the dataset from the google drive\n",
        "gdown.download(f\"https://drive.google.com/uc?id={File_ID}\", Data, quiet=False)"
      ],
      "metadata": {
        "colab": {
          "base_uri": "https://localhost:8080/",
          "height": 105
        },
        "id": "dtV0WfTRHa59",
        "outputId": "b777153d-2293-478f-add8-39a79f2e4a7e"
      },
      "execution_count": 3,
      "outputs": [
        {
          "output_type": "stream",
          "name": "stderr",
          "text": [
            "Downloading...\n",
            "From: https://drive.google.com/uc?id=1B5pTSJc03NEfja3enhS4XKxBsqDpqIPo\n",
            "To: /content/heart_disease.csv\n",
            "100%|██████████| 38.1k/38.1k [00:00<00:00, 27.3MB/s]\n"
          ]
        },
        {
          "output_type": "execute_result",
          "data": {
            "text/plain": [
              "'heart_disease.csv'"
            ],
            "application/vnd.google.colaboratory.intrinsic+json": {
              "type": "string"
            }
          },
          "metadata": {},
          "execution_count": 3
        }
      ]
    },
    {
      "cell_type": "code",
      "source": [
        "# installing java and apache spark\n",
        "!apt-get install openjdk-8-jdk-headless -qq > /dev/null\n",
        "!wget -q https://archive.apache.org/dist/spark/spark-3.2.1/spark-3.2.1-bin-hadoop2.7.tgz\n",
        "!tar -xvf spark-3.2.1-bin-hadoop2.7.tgz > /dev/null\n",
        "!pip install -q findspark"
      ],
      "metadata": {
        "id": "P3FY6LF_HdGB"
      },
      "execution_count": 4,
      "outputs": []
    },
    {
      "cell_type": "code",
      "source": [
        "# setting up the environment variables for java and apache spark which are installed\n",
        "os.environ[\"JAVA_HOME\"] = \"/usr/lib/jvm/java-8-openjdk-amd64\"\n",
        "os.environ[\"SPARK_HOME\"] = \"/content/spark-3.2.1-bin-hadoop2.7\""
      ],
      "metadata": {
        "id": "ApZoz0HGHgZd"
      },
      "execution_count": 5,
      "outputs": []
    },
    {
      "cell_type": "code",
      "source": [
        "# displaying the value of SPARK_HOME and PATH environment variables\n",
        "!echo $SPARK_HOME\n",
        "!echo $PATH"
      ],
      "metadata": {
        "colab": {
          "base_uri": "https://localhost:8080/"
        },
        "id": "fThHaYirH33E",
        "outputId": "898dc068-cdce-45f0-80f1-f396cc638054"
      },
      "execution_count": 6,
      "outputs": [
        {
          "output_type": "stream",
          "name": "stdout",
          "text": [
            "/content/spark-3.2.1-bin-hadoop2.7\n",
            "/opt/bin:/usr/local/nvidia/bin:/usr/local/cuda/bin:/usr/local/sbin:/usr/local/bin:/usr/sbin:/usr/bin:/sbin:/bin:/tools/node/bin:/tools/google-cloud-sdk/bin\n"
          ]
        }
      ]
    },
    {
      "cell_type": "code",
      "source": [
        "# initializing findspark for knowing the location Spark directory\n",
        "import findspark\n",
        "findspark.init(\"/content/spark-3.2.1-bin-hadoop2.7\")\n",
        "print(findspark.find())"
      ],
      "metadata": {
        "colab": {
          "base_uri": "https://localhost:8080/"
        },
        "id": "o0St4BBCH555",
        "outputId": "2569a0a8-0f60-406c-9321-07406253d7c7"
      },
      "execution_count": 7,
      "outputs": [
        {
          "output_type": "stream",
          "name": "stdout",
          "text": [
            "/content/spark-3.2.1-bin-hadoop2.7\n"
          ]
        }
      ]
    },
    {
      "cell_type": "code",
      "source": [
        "# displaying the version of java and pyspark which is installed\n",
        "!java -version\n",
        "print(pyspark.__version__)"
      ],
      "metadata": {
        "colab": {
          "base_uri": "https://localhost:8080/"
        },
        "id": "CbjtBO3rIMdm",
        "outputId": "5521a9b5-5e8d-4c04-c809-3dfdda543def"
      },
      "execution_count": 8,
      "outputs": [
        {
          "output_type": "stream",
          "name": "stdout",
          "text": [
            "openjdk version \"11.0.27\" 2025-04-15\n",
            "OpenJDK Runtime Environment (build 11.0.27+6-post-Ubuntu-0ubuntu122.04)\n",
            "OpenJDK 64-Bit Server VM (build 11.0.27+6-post-Ubuntu-0ubuntu122.04, mixed mode, sharing)\n",
            "3.2.1\n"
          ]
        }
      ]
    },
    {
      "cell_type": "code",
      "source": [
        "# initializing the pyspark\n",
        "!pip install --upgrade pyspark==3.2.1\n",
        "findspark.init(\"/content/spark-3.2.1-bin-hadoop2.7\")\n",
        "spark = SparkSession.builder.appName(\"HeartDiseasePrediction\").getOrCreate()\n",
        "print(\"Apache Spark is successfully installed and running!\")\n",
        "spark"
      ],
      "metadata": {
        "colab": {
          "base_uri": "https://localhost:8080/",
          "height": 271
        },
        "id": "zVJJ38lqIOn2",
        "outputId": "c304f2f6-15b1-4147-de72-1d7a7f056568"
      },
      "execution_count": 9,
      "outputs": [
        {
          "output_type": "stream",
          "name": "stdout",
          "text": [
            "Requirement already satisfied: pyspark==3.2.1 in /usr/local/lib/python3.11/dist-packages (3.2.1)\n",
            "Requirement already satisfied: py4j==0.10.9.3 in /usr/local/lib/python3.11/dist-packages (from pyspark==3.2.1) (0.10.9.3)\n",
            "Apache Spark is successfully installed and running!\n"
          ]
        },
        {
          "output_type": "execute_result",
          "data": {
            "text/plain": [
              "<pyspark.sql.session.SparkSession at 0x7b1db83f6f90>"
            ],
            "text/html": [
              "\n",
              "            <div>\n",
              "                <p><b>SparkSession - in-memory</b></p>\n",
              "                \n",
              "        <div>\n",
              "            <p><b>SparkContext</b></p>\n",
              "\n",
              "            <p><a href=\"http://f41542396a00:4040\">Spark UI</a></p>\n",
              "\n",
              "            <dl>\n",
              "              <dt>Version</dt>\n",
              "                <dd><code>v3.2.1</code></dd>\n",
              "              <dt>Master</dt>\n",
              "                <dd><code>local[*]</code></dd>\n",
              "              <dt>AppName</dt>\n",
              "                <dd><code>HeartDiseasePrediction</code></dd>\n",
              "            </dl>\n",
              "        </div>\n",
              "        \n",
              "            </div>\n",
              "        "
            ]
          },
          "metadata": {},
          "execution_count": 9
        }
      ]
    },
    {
      "cell_type": "code",
      "source": [
        "# loading the dataset into spark dataframe\n",
        "dframe_spark = spark.read.csv(Data, header=True, inferSchema=True)\n",
        "\n",
        "# displaying the dataset schema\n",
        "dframe_spark.printSchema()\n",
        "\n",
        "# displaying the first 5 rows of the dataset\n",
        "dframe_spark.show(5)"
      ],
      "metadata": {
        "colab": {
          "base_uri": "https://localhost:8080/"
        },
        "id": "UIGJEF6VIvjN",
        "outputId": "a8714ea5-a4f5-4300-b3d6-290abad9d214"
      },
      "execution_count": 10,
      "outputs": [
        {
          "output_type": "stream",
          "name": "stdout",
          "text": [
            "root\n",
            " |-- age: integer (nullable = true)\n",
            " |-- sex: integer (nullable = true)\n",
            " |-- cp: integer (nullable = true)\n",
            " |-- trestbps: integer (nullable = true)\n",
            " |-- chol: integer (nullable = true)\n",
            " |-- fbs: integer (nullable = true)\n",
            " |-- restecg: integer (nullable = true)\n",
            " |-- thalach: integer (nullable = true)\n",
            " |-- exang: integer (nullable = true)\n",
            " |-- oldpeak: double (nullable = true)\n",
            " |-- slope: integer (nullable = true)\n",
            " |-- ca: integer (nullable = true)\n",
            " |-- thal: integer (nullable = true)\n",
            " |-- target: integer (nullable = true)\n",
            "\n",
            "+---+---+---+--------+----+---+-------+-------+-----+-------+-----+---+----+------+\n",
            "|age|sex| cp|trestbps|chol|fbs|restecg|thalach|exang|oldpeak|slope| ca|thal|target|\n",
            "+---+---+---+--------+----+---+-------+-------+-----+-------+-----+---+----+------+\n",
            "| 52|  1|  0|     125| 212|  0|      1|    168|    0|    1.0|    2|  2|   3|     0|\n",
            "| 53|  1|  0|     140| 203|  1|      0|    155|    1|    3.1|    0|  0|   3|     0|\n",
            "| 70|  1|  0|     145| 174|  0|      1|    125|    1|    2.6|    0|  0|   3|     0|\n",
            "| 61|  1|  0|     148| 203|  0|      1|    161|    0|    0.0|    2|  1|   3|     0|\n",
            "| 62|  0|  0|     138| 294|  1|      1|    106|    0|    1.9|    1|  3|   2|     0|\n",
            "+---+---+---+--------+----+---+-------+-------+-----+-------+-----+---+----+------+\n",
            "only showing top 5 rows\n",
            "\n"
          ]
        }
      ]
    },
    {
      "cell_type": "code",
      "source": [
        "# handling the missing values\n",
        "dframe_spark = dframe_spark.na.drop()\n",
        "print(f\"Number of rows after removing the missing values: {dframe_spark.count()}\")"
      ],
      "metadata": {
        "colab": {
          "base_uri": "https://localhost:8080/"
        },
        "id": "szGiRU4IJCMm",
        "outputId": "d102c6e4-537f-439f-b3b0-223b3cde5267"
      },
      "execution_count": 11,
      "outputs": [
        {
          "output_type": "stream",
          "name": "stdout",
          "text": [
            "Number of rows after removing the missing values: 1025\n"
          ]
        }
      ]
    },
    {
      "cell_type": "code",
      "source": [
        "# converting the categorical variables based upon the requirement\n",
        "dta_ind = StringIndexer(inputCol=\"sex\", outputCol=\"sex_index\")\n",
        "dframe_spark = dta_ind.fit(dframe_spark).transform(dframe_spark)\n",
        "dframe_spark.show(5)"
      ],
      "metadata": {
        "colab": {
          "base_uri": "https://localhost:8080/"
        },
        "id": "JW-afM0bJF-5",
        "outputId": "04d82aa1-7552-4304-9ecd-9f0083700192"
      },
      "execution_count": 12,
      "outputs": [
        {
          "output_type": "stream",
          "name": "stdout",
          "text": [
            "+---+---+---+--------+----+---+-------+-------+-----+-------+-----+---+----+------+---------+\n",
            "|age|sex| cp|trestbps|chol|fbs|restecg|thalach|exang|oldpeak|slope| ca|thal|target|sex_index|\n",
            "+---+---+---+--------+----+---+-------+-------+-----+-------+-----+---+----+------+---------+\n",
            "| 52|  1|  0|     125| 212|  0|      1|    168|    0|    1.0|    2|  2|   3|     0|      0.0|\n",
            "| 53|  1|  0|     140| 203|  1|      0|    155|    1|    3.1|    0|  0|   3|     0|      0.0|\n",
            "| 70|  1|  0|     145| 174|  0|      1|    125|    1|    2.6|    0|  0|   3|     0|      0.0|\n",
            "| 61|  1|  0|     148| 203|  0|      1|    161|    0|    0.0|    2|  1|   3|     0|      0.0|\n",
            "| 62|  0|  0|     138| 294|  1|      1|    106|    0|    1.9|    1|  3|   2|     0|      1.0|\n",
            "+---+---+---+--------+----+---+-------+-------+-----+-------+-----+---+----+------+---------+\n",
            "only showing top 5 rows\n",
            "\n"
          ]
        }
      ]
    },
    {
      "cell_type": "code",
      "source": [
        "# feature columns\n",
        "fea_colmns = [col for col in dframe_spark.columns if col != \"target\" and col != \"sex_index\"]\n",
        "\n",
        "# checking the feature columns to ensure that they are numeric\n",
        "print(\"Feature columns:\", fea_colmns)\n",
        "\n",
        "# assembling features into a single column features\n",
        "from pyspark.ml.feature import VectorAssembler\n",
        "asmbler = VectorAssembler(inputCols=fea_colmns, outputCol=\"features\")\n",
        "dframe_spark = asmbler.transform(dframe_spark)\n",
        "\n",
        "# displaying the first few rows with features and target\n",
        "dframe_spark.select(\"features\", \"target\").show(5)\n"
      ],
      "metadata": {
        "colab": {
          "base_uri": "https://localhost:8080/"
        },
        "id": "3cC7f_FcJIO4",
        "outputId": "36c13b2e-e044-4e2d-9305-cca762337461"
      },
      "execution_count": 13,
      "outputs": [
        {
          "output_type": "stream",
          "name": "stdout",
          "text": [
            "Feature columns: ['age', 'sex', 'cp', 'trestbps', 'chol', 'fbs', 'restecg', 'thalach', 'exang', 'oldpeak', 'slope', 'ca', 'thal']\n",
            "+--------------------+------+\n",
            "|            features|target|\n",
            "+--------------------+------+\n",
            "|[52.0,1.0,0.0,125...|     0|\n",
            "|[53.0,1.0,0.0,140...|     0|\n",
            "|[70.0,1.0,0.0,145...|     0|\n",
            "|[61.0,1.0,0.0,148...|     0|\n",
            "|[62.0,0.0,0.0,138...|     0|\n",
            "+--------------------+------+\n",
            "only showing top 5 rows\n",
            "\n"
          ]
        }
      ]
    },
    {
      "cell_type": "code",
      "source": [
        "# creating a temporary SQL view for querying\n",
        "dframe_spark.createOrReplaceTempView(\"heart_disease\")\n",
        "\n",
        "# displaying the count of patients with and without heart disease\n",
        "dta_qry = \"SELECT target, COUNT(*) as count FROM heart_disease GROUP BY target\"\n",
        "res_qry = spark.sql(dta_qry)\n",
        "res_qry.show()"
      ],
      "metadata": {
        "colab": {
          "base_uri": "https://localhost:8080/"
        },
        "id": "M4m1TISIJLrF",
        "outputId": "458b198d-5896-4647-a8a0-528212bd11ec"
      },
      "execution_count": 14,
      "outputs": [
        {
          "output_type": "stream",
          "name": "stdout",
          "text": [
            "+------+-----+\n",
            "|target|count|\n",
            "+------+-----+\n",
            "|     1|  526|\n",
            "|     0|  499|\n",
            "+------+-----+\n",
            "\n"
          ]
        }
      ]
    },
    {
      "cell_type": "code",
      "source": [
        "# converting the spark dataframe to pandas dataframe for scikit-learn\n",
        "dframe_pd = dframe_spark.toPandas()\n",
        "\n",
        "# preparing the feature columns and target column\n",
        "x = np.array(dframe_pd['features'].apply(lambda x: x.toArray()).tolist())\n",
        "y = dframe_pd['target']\n",
        "\n",
        "# splitting the data into training and testing sets\n",
        "x_tra, x_tes, y_tra, y_tes = train_test_split(x, y, test_size=0.2, random_state=42)"
      ],
      "metadata": {
        "id": "3K7p0gloJNuR"
      },
      "execution_count": 15,
      "outputs": []
    },
    {
      "cell_type": "code",
      "source": [
        "# tuning hyperparameters\n",
        "smote = SMOTE(random_state=42)\n",
        "x_tra_resam, y_tra_resam = smote.fit_resample(x_tra, y_tra)\n",
        "\n",
        "# scaling the features\n",
        "sc = StandardScaler()\n",
        "x_tra_sc = sc.fit_transform(x_tra_resam)\n",
        "x_tst_sc = sc.transform(x_tes)\n",
        "\n",
        "# adding the polynomial features to capture the non-linearity\n",
        "poly = PolynomialFeatures(degree=2, interaction_only=True)\n",
        "x_tra_poly = poly.fit_transform(x_tra_sc)\n",
        "x_tst_poly = poly.transform(x_tst_sc)"
      ],
      "metadata": {
        "id": "X601GSzcJQJL"
      },
      "execution_count": 16,
      "outputs": []
    },
    {
      "cell_type": "code",
      "source": [
        "# defining a function to display the performance metrics of the trained model\n",
        "def evaluate_model_performance(model, x_tst, y_tst):\n",
        "    y_pred = model.predict(x_tst)\n",
        "    acc = accuracy_score(y_tst, y_pred)\n",
        "    rpt = classification_report(y_tst, y_pred)\n",
        "    print(f\"Accuracy: {acc:.4f}\")\n",
        "    print(f\"Recall   : {recall_score(y_tst, y_pred):.4f}\")\n",
        "    print(f\"F1-score : {f1_score(y_tst, y_pred):.4f}\")\n",
        "    print(\"Classification Report:\\n\", rpt)"
      ],
      "metadata": {
        "id": "DF8AeZI9JZJD"
      },
      "execution_count": 17,
      "outputs": []
    },
    {
      "cell_type": "markdown",
      "source": [
        "# Model Training"
      ],
      "metadata": {
        "id": "jocbp6ijJcsP"
      }
    },
    {
      "cell_type": "markdown",
      "source": [
        "# Logistic Regression"
      ],
      "metadata": {
        "id": "1D99PtCnJfTT"
      }
    },
    {
      "cell_type": "code",
      "source": [
        "from sklearn.linear_model import LogisticRegression\n",
        "\n",
        "# defining an improved hyperparameter grid\n",
        "log_param = {\n",
        "    'C': [1, 10, 100, 500, 1000],\n",
        "    'penalty': ['l2'],\n",
        "    'solver': ['saga'],\n",
        "}\n",
        "\n",
        "# performing the RandomizedSearchCV\n",
        "log_mod = RandomizedSearchCV(\n",
        "    LogisticRegression(max_iter=5000, class_weight='balanced', random_state=16),\n",
        "    log_param,\n",
        "    n_iter=1,\n",
        "    cv=5,\n",
        "    scoring='accuracy',\n",
        "    n_jobs=-1\n",
        ")\n",
        "\n",
        "# training the model\n",
        "log_mod.fit(x_tra_poly, y_tra_resam)\n",
        "\n",
        "# evaluating the model\n",
        "evaluate_model_performance(log_mod, x_tst_poly, y_tes)"
      ],
      "metadata": {
        "colab": {
          "base_uri": "https://localhost:8080/"
        },
        "id": "-JDa_CvmJhoj",
        "outputId": "1b6315dd-0d24-4d9d-8148-63bf18c45e71"
      },
      "execution_count": 18,
      "outputs": [
        {
          "output_type": "stream",
          "name": "stdout",
          "text": [
            "Accuracy: 0.9268\n",
            "Recall   : 0.9320\n",
            "F1-score : 0.9275\n",
            "Classification Report:\n",
            "               precision    recall  f1-score   support\n",
            "\n",
            "           0       0.93      0.92      0.93       102\n",
            "           1       0.92      0.93      0.93       103\n",
            "\n",
            "    accuracy                           0.93       205\n",
            "   macro avg       0.93      0.93      0.93       205\n",
            "weighted avg       0.93      0.93      0.93       205\n",
            "\n"
          ]
        }
      ]
    },
    {
      "cell_type": "markdown",
      "source": [
        "# Naive Bayes"
      ],
      "metadata": {
        "id": "CppyvgQ3JkV3"
      }
    },
    {
      "cell_type": "code",
      "source": [
        "from sklearn.naive_bayes import GaussianNB\n",
        "\n",
        "# training the model\n",
        "nb_model = GaussianNB()\n",
        "nb_model.fit(x_tra_resam, y_tra_resam)\n",
        "\n",
        "# evaluating the model\n",
        "evaluate_model_performance(nb_model, x_tes, y_tes)"
      ],
      "metadata": {
        "colab": {
          "base_uri": "https://localhost:8080/"
        },
        "id": "_fFtcrfIJkAk",
        "outputId": "14b5bcdb-a9c8-4f22-d4c2-c2a7e4c32207"
      },
      "execution_count": 19,
      "outputs": [
        {
          "output_type": "stream",
          "name": "stdout",
          "text": [
            "Accuracy: 0.8000\n",
            "Recall   : 0.8932\n",
            "F1-score : 0.8178\n",
            "Classification Report:\n",
            "               precision    recall  f1-score   support\n",
            "\n",
            "           0       0.87      0.71      0.78       102\n",
            "           1       0.75      0.89      0.82       103\n",
            "\n",
            "    accuracy                           0.80       205\n",
            "   macro avg       0.81      0.80      0.80       205\n",
            "weighted avg       0.81      0.80      0.80       205\n",
            "\n"
          ]
        }
      ]
    },
    {
      "cell_type": "markdown",
      "source": [
        "# Decision Tree"
      ],
      "metadata": {
        "id": "wzk5BvdlJt4B"
      }
    },
    {
      "cell_type": "code",
      "source": [
        "from sklearn.tree import DecisionTreeClassifier\n",
        "\n",
        "# defining hyperparameters\n",
        "dt_param = {'max_depth': [5,10, None], 'min_samples_split': [2,5]}\n",
        "\n",
        "# performing RandomizedSearchCV\n",
        "dt_mod = RandomizedSearchCV(DecisionTreeClassifier(random_state=42), dt_param, n_iter=5, cv=3, n_jobs=-1)\n",
        "dt_mod.fit(x_tra_resam, y_tra_resam)\n",
        "\n",
        "# evaluating the model\n",
        "evaluate_model_performance(dt_mod, x_tes, y_tes)\n"
      ],
      "metadata": {
        "colab": {
          "base_uri": "https://localhost:8080/"
        },
        "id": "iI3vXUqMJxyc",
        "outputId": "76f403be-aaa7-46f3-c980-0b4b2e5cae41"
      },
      "execution_count": 20,
      "outputs": [
        {
          "output_type": "stream",
          "name": "stdout",
          "text": [
            "Accuracy: 0.9854\n",
            "Recall   : 0.9709\n",
            "F1-score : 0.9852\n",
            "Classification Report:\n",
            "               precision    recall  f1-score   support\n",
            "\n",
            "           0       0.97      1.00      0.99       102\n",
            "           1       1.00      0.97      0.99       103\n",
            "\n",
            "    accuracy                           0.99       205\n",
            "   macro avg       0.99      0.99      0.99       205\n",
            "weighted avg       0.99      0.99      0.99       205\n",
            "\n"
          ]
        }
      ]
    },
    {
      "cell_type": "markdown",
      "source": [
        "# SVM Classifier"
      ],
      "metadata": {
        "id": "4sx60QsxJ0Qf"
      }
    },
    {
      "cell_type": "code",
      "source": [
        "from sklearn.svm import SVC\n",
        "\n",
        "# defining hyperparameters\n",
        "svm_param = {'C': [0.1, 1, 10], 'gamma': ['scale', 'auto'], 'kernel': ['rbf']}\n",
        "\n",
        "# performing RandomizedSearchCV\n",
        "svm_mod = RandomizedSearchCV(SVC(kernel='rbf', probability=True, random_state=42), svm_param, n_iter=5, cv=3, n_jobs=-1)\n",
        "svm_mod.fit(x_tra_resam, y_tra_resam)\n",
        "\n",
        "# evaluating the model\n",
        "evaluate_model_performance(svm_mod, x_tes, y_tes)\n"
      ],
      "metadata": {
        "colab": {
          "base_uri": "https://localhost:8080/"
        },
        "id": "wDnfgJtxJ2H9",
        "outputId": "50ad9997-aa06-42aa-b92d-dc2587785753"
      },
      "execution_count": 21,
      "outputs": [
        {
          "output_type": "stream",
          "name": "stdout",
          "text": [
            "Accuracy: 0.9610\n",
            "Recall   : 0.9223\n",
            "F1-score : 0.9596\n",
            "Classification Report:\n",
            "               precision    recall  f1-score   support\n",
            "\n",
            "           0       0.93      1.00      0.96       102\n",
            "           1       1.00      0.92      0.96       103\n",
            "\n",
            "    accuracy                           0.96       205\n",
            "   macro avg       0.96      0.96      0.96       205\n",
            "weighted avg       0.96      0.96      0.96       205\n",
            "\n"
          ]
        }
      ]
    },
    {
      "cell_type": "markdown",
      "source": [
        "# Random Forest"
      ],
      "metadata": {
        "id": "AgOkgsFrJ4xZ"
      }
    },
    {
      "cell_type": "code",
      "source": [
        "from sklearn.ensemble import RandomForestClassifier\n",
        "\n",
        "# defining hyperparameters\n",
        "rf_param = {\n",
        "    'n_estimators': [150, 200, 250],\n",
        "    'max_depth': [12, 15, 18],\n",
        "    'min_samples_split': [4, 6, 8],\n",
        "    'min_samples_leaf': [3, 4, 5],\n",
        "    'max_features': ['sqrt', 'log2']\n",
        "}\n",
        "\n",
        "# performing RandomizedSearchCV\n",
        "rf_mod = RandomizedSearchCV(RandomForestClassifier(random_state=42), rf_param, n_iter=5, cv=3, n_jobs=-1)\n",
        "rf_mod.fit(x_tra_resam, y_tra_resam)\n",
        "\n",
        "# evaluating the model\n",
        "evaluate_model_performance(rf_mod, x_tes, y_tes)\n"
      ],
      "metadata": {
        "colab": {
          "base_uri": "https://localhost:8080/"
        },
        "id": "wRYV_mTkJ7CX",
        "outputId": "82cda6c7-c80e-414b-e2ad-14362ee354f6"
      },
      "execution_count": 22,
      "outputs": [
        {
          "output_type": "stream",
          "name": "stdout",
          "text": [
            "Accuracy: 0.9463\n",
            "Recall   : 0.9417\n",
            "F1-score : 0.9463\n",
            "Classification Report:\n",
            "               precision    recall  f1-score   support\n",
            "\n",
            "           0       0.94      0.95      0.95       102\n",
            "           1       0.95      0.94      0.95       103\n",
            "\n",
            "    accuracy                           0.95       205\n",
            "   macro avg       0.95      0.95      0.95       205\n",
            "weighted avg       0.95      0.95      0.95       205\n",
            "\n"
          ]
        }
      ]
    },
    {
      "cell_type": "markdown",
      "source": [
        "# KNN Classifier"
      ],
      "metadata": {
        "id": "8Wi4yXO_J913"
      }
    },
    {
      "cell_type": "code",
      "source": [
        "from sklearn.neighbors import KNeighborsClassifier\n",
        "\n",
        "# defining hyperparameters\n",
        "knn_param = {'n_neighbors': [3, 5, 7, 9, 11], 'metric': ['euclidean']}\n",
        "\n",
        "# performing RandomizedSearchCV\n",
        "knn_mod = RandomizedSearchCV(KNeighborsClassifier(), knn_param, n_iter=5, cv=3, scoring='accuracy', n_jobs=-1)\n",
        "knn_mod.fit(x_tra_resam, y_tra_resam)\n",
        "\n",
        "# evaluating the model\n",
        "evaluate_model_performance(knn_mod, x_tes, y_tes)"
      ],
      "metadata": {
        "colab": {
          "base_uri": "https://localhost:8080/"
        },
        "id": "6vtORDlYKABy",
        "outputId": "ea13e021-c808-466d-94b1-2bbcf28e4eb5"
      },
      "execution_count": 23,
      "outputs": [
        {
          "output_type": "stream",
          "name": "stdout",
          "text": [
            "Accuracy: 0.9171\n",
            "Recall   : 0.9126\n",
            "F1-score : 0.9171\n",
            "Classification Report:\n",
            "               precision    recall  f1-score   support\n",
            "\n",
            "           0       0.91      0.92      0.92       102\n",
            "           1       0.92      0.91      0.92       103\n",
            "\n",
            "    accuracy                           0.92       205\n",
            "   macro avg       0.92      0.92      0.92       205\n",
            "weighted avg       0.92      0.92      0.92       205\n",
            "\n"
          ]
        }
      ]
    },
    {
      "cell_type": "markdown",
      "source": [
        "# XG Boost"
      ],
      "metadata": {
        "id": "JfBH4D1CKCRK"
      }
    },
    {
      "cell_type": "code",
      "source": [
        "import xgboost as xgb\n",
        "\n",
        "# defining hyperparameters\n",
        "xgb_param = {'n_estimators': [100, 200, 300], 'learning_rate': [0.01], 'max_depth': [6, 10]}\n",
        "\n",
        "# performing RandomizedSearchCV\n",
        "xgb_mod = RandomizedSearchCV(xgb.XGBClassifier(use_label_encoder=False, eval_metric='logloss', random_state=42),\n",
        "                               xgb_param, n_iter=5, cv=3, n_jobs=-1)\n",
        "xgb_mod.fit(x_tra_resam, y_tra_resam)\n",
        "\n",
        "# evaluating the model\n",
        "evaluate_model_performance(xgb_mod, x_tes, y_tes)"
      ],
      "metadata": {
        "colab": {
          "base_uri": "https://localhost:8080/"
        },
        "id": "gGUpuryUKETQ",
        "outputId": "8d12b2c2-bd16-46af-f993-5a6165e82900"
      },
      "execution_count": 24,
      "outputs": [
        {
          "output_type": "stream",
          "name": "stdout",
          "text": [
            "Accuracy: 0.9854\n",
            "Recall   : 0.9709\n",
            "F1-score : 0.9852\n",
            "Classification Report:\n",
            "               precision    recall  f1-score   support\n",
            "\n",
            "           0       0.97      1.00      0.99       102\n",
            "           1       1.00      0.97      0.99       103\n",
            "\n",
            "    accuracy                           0.99       205\n",
            "   macro avg       0.99      0.99      0.99       205\n",
            "weighted avg       0.99      0.99      0.99       205\n",
            "\n"
          ]
        }
      ]
    },
    {
      "cell_type": "markdown",
      "source": [
        "# Stacking CV Classifier"
      ],
      "metadata": {
        "id": "vwxbRHm6KGNZ"
      }
    },
    {
      "cell_type": "code",
      "source": [
        "from sklearn.ensemble import StackingClassifier\n",
        "\n",
        "# defining the base estimators using best models found.\n",
        "estimators = [\n",
        "    ('KNN', knn_mod.best_estimator_),\n",
        "    ('Random Forest', rf_mod),\n",
        "    ('Logistic Regression', log_mod.best_estimator_),\n",
        "    ('Decision Tree', dt_mod.best_estimator_),\n",
        "    ('SVM', svm_mod.best_estimator_),\n",
        "    ('XGBoost', xgb_mod.best_estimator_)\n",
        "]\n",
        "\n",
        "# defining and training the model\n",
        "stack_cv_mod = StackingClassifier(estimators=estimators, final_estimator=LogisticRegression(), cv=3)\n",
        "stack_cv_mod.fit(x_tra_resam, y_tra_resam)\n",
        "\n",
        "# evaluating the model\n",
        "evaluate_model_performance(stack_cv_mod, x_tes, y_tes)"
      ],
      "metadata": {
        "colab": {
          "base_uri": "https://localhost:8080/"
        },
        "id": "JkKFBtWdKIgE",
        "outputId": "64914aad-3c62-49f7-ed12-aeec3297effb"
      },
      "execution_count": 25,
      "outputs": [
        {
          "output_type": "stream",
          "name": "stdout",
          "text": [
            "Accuracy: 0.9854\n",
            "Recall   : 0.9709\n",
            "F1-score : 0.9852\n",
            "Classification Report:\n",
            "               precision    recall  f1-score   support\n",
            "\n",
            "           0       0.97      1.00      0.99       102\n",
            "           1       1.00      0.97      0.99       103\n",
            "\n",
            "    accuracy                           0.99       205\n",
            "   macro avg       0.99      0.99      0.99       205\n",
            "weighted avg       0.99      0.99      0.99       205\n",
            "\n"
          ]
        }
      ]
    },
    {
      "cell_type": "code",
      "source": [
        "# visulaizing the evaluating metrics of the trained models\n",
        "import matplotlib.pyplot as plt\n",
        "modl = [\n",
        "    'Logistic Regression', 'Naive Bayes', 'Decision Tree', 'SVM',\n",
        "    'Random Forest', 'KNN', 'XGBoost', 'StackingCV'\n",
        "]\n",
        "acc = [0.9707, 0.8000, 0.9854, 0.9610, 0.9366, 0.9171, 0.9854, 0.9854]\n",
        "rec = [0.9612, 0.8932, 0.9709, 0.9223, 0.9417, 0.9126, 0.9709, 0.9709]\n",
        "f1 = [0.9706, 0.8178, 0.9852, 0.9596, 0.9372, 0.9171, 0.9852, 0.9852]\n",
        "\n",
        "# plotting the metrics\n",
        "plt.figure(figsize=(12, 6))\n",
        "x = range(len(modl))\n",
        "plt.plot(x, acc, marker='o', label='Accuracy')\n",
        "plt.plot(x, rec, marker='s', label='Recall')\n",
        "plt.plot(x, f1, marker='^', label='F1 Score')\n",
        "plt.xticks(x, modl, rotation=45)\n",
        "plt.ylim(0.75, 1.0)\n",
        "plt.title('Model Performance Comparison')\n",
        "plt.xlabel('Models')\n",
        "plt.ylabel('Score')\n",
        "plt.legend()\n",
        "plt.grid(True)\n",
        "plt.tight_layout()\n",
        "plt.show()"
      ],
      "metadata": {
        "colab": {
          "base_uri": "https://localhost:8080/",
          "height": 607
        },
        "id": "4SDjGi6h48GW",
        "outputId": "9ca5bd2a-dc70-48bc-bf94-aab076f35cab"
      },
      "execution_count": 26,
      "outputs": [
        {
          "output_type": "display_data",
          "data": {
            "text/plain": [
              "<Figure size 1200x600 with 1 Axes>"
            ],
            "image/png": "[encoded data removed]"
          },
          "metadata": {}
        }
      ]
    }
  ]
}